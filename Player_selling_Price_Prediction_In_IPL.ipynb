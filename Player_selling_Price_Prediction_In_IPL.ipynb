{
 "cells": [
  {
   "cell_type": "markdown",
   "metadata": {},
   "source": [
    "# Players Selling Price Prediction In IPL\n",
    "\n",
    "\n",
    "## Introduction \n",
    "Indian Premier League or as it is famously known IPL is one of the most loved cricket championships across the world. It was started in 2007 by the BCCI in India having 20-20 cricket formats and eight teams. Teams can have national or international players. This was the main game-changer in this championship since players from different national teams can now play together which many fans have wanted to see for a long time.\n",
    "\n",
    "There are eight teams in IPL that were introduced at the beginning which are as follows:\n",
    "\n",
    "1. <a href= \"https://www.espncricinfo.com/ipl/content/squad/338086.html\">Bangalore Royal Challengers</a>\n",
    "2. <a href= \"https://www.espncricinfo.com/ipl/content/squad/338085.html\">Chennai Super Kings</a>\n",
    "3. <a href= \"https://www.espncricinfo.com/ipl/content/squad/338087.html\">Deccan Chargers</a>\n",
    "4. <a href= \"https://www.espncricinfo.com/ipl/content/squad/338089.html\">Delhi Daredevils</a>\n",
    "5. <a href= \"https://www.espncricinfo.com/ipl/content/squad/338083.html\">Kings XI Punjab</a>\n",
    "6. <a href= \"https://www.espncricinfo.com/ipl/content/squad/338088.html\">Kolkata Knight Riders</a>\n",
    "7. <a href= \"https://www.espncricinfo.com/ipl/content/squad/338082.html\">Mumbai Indians</a>\n",
    "8. <a href= \"https://www.espncricinfo.com/ipl/content/squad/338084.html\">Rajasthan Royals</a>\n",
    "\n",
    "An auction was held initially to decide the ownership of teams for the time period of 10 years with a base price of USD 50 million. There are several rules that are imposed by IPL that need to be followed to be in an IPL team. For example, Only international and famous Indian players are auctioned. Each player has a base price which is decided by various performance metrics.  Even though IPL follows the 20-20 cricket format it is possible that the base price of a player is influenced by the performance of players in other cricket formats line One-Day-International(ODI) and Test-Match."
   ]
  },
  {
   "cell_type": "markdown",
   "metadata": {},
   "source": [
    "In this article, we will try to predict the selling price of a player given their past performances in other cricket formats. The data we will be using have information of 130 players who played in at least one season of IPL from 2008 till 2011."
   ]
  },
  {
   "cell_type": "markdown",
   "metadata": {},
   "source": [
    "#### <b> Developing Multiple Linear Regression Model with Machine Learning. </b>\n",
    "\n",
    "In this section, we will be discussing various steps involved in developing a multiple linear regression model using python."
   ]
  },
  {
   "cell_type": "markdown",
   "metadata": {},
   "source": [
    "1. Loading dataset\n",
    "2. Displaying the first five records\n",
    "3. Encoding Categorical Features\n",
    "4. Splitting the dataset into train and validation sets\n",
    "5. Building the Model on the Training Dataset\n",
    "6. Multi-Collinearity and Handling Multi-Collinearity\n",
    "7. Build a new model after Removing Multi-collinearity\n",
    "\n",
    "Let's Go...."
   ]
  },
  {
   "cell_type": "markdown",
   "metadata": {},
   "source": [
    "### 1. Loading the dataset"
   ]
  },
  {
   "cell_type": "code",
   "execution_count": 1,
   "metadata": {},
   "outputs": [],
   "source": [
    "import numpy as np\n",
    "import pandas as pd"
   ]
  },
  {
   "cell_type": "code",
   "execution_count": 2,
   "metadata": {},
   "outputs": [],
   "source": [
    "ipl_au = pd.read_csv(\"IPL_Dataset.csv\")"
   ]
  },
  {
   "cell_type": "code",
   "execution_count": 3,
   "metadata": {},
   "outputs": [
    {
     "name": "stdout",
     "output_type": "stream",
     "text": [
      "<class 'pandas.core.frame.DataFrame'>\n",
      "RangeIndex: 130 entries, 0 to 129\n",
      "Data columns (total 26 columns):\n",
      " #   Column         Non-Null Count  Dtype  \n",
      "---  ------         --------------  -----  \n",
      " 0   Sl.NO.         130 non-null    int64  \n",
      " 1   PLAYER NAME    130 non-null    object \n",
      " 2   AGE            130 non-null    int64  \n",
      " 3   COUNTRY        130 non-null    object \n",
      " 4   TEAM           130 non-null    object \n",
      " 5   PLAYING ROLE   130 non-null    object \n",
      " 6   T-RUNS         130 non-null    int64  \n",
      " 7   T-WKTS         130 non-null    int64  \n",
      " 8   ODI-RUNS-S     130 non-null    int64  \n",
      " 9   ODI-SR-B       130 non-null    float64\n",
      " 10  ODI-WKTS       130 non-null    int64  \n",
      " 11  ODI-SR-BL      130 non-null    float64\n",
      " 12  CAPTAINCY EXP  130 non-null    int64  \n",
      " 13  RUNS-S         130 non-null    int64  \n",
      " 14  HS             130 non-null    int64  \n",
      " 15  AVE            130 non-null    float64\n",
      " 16  SR-B           130 non-null    float64\n",
      " 17  SIXERS         130 non-null    int64  \n",
      " 18  RUNS-C         130 non-null    int64  \n",
      " 19  WKTS           130 non-null    int64  \n",
      " 20  AVE-BL         130 non-null    float64\n",
      " 21  ECON           130 non-null    float64\n",
      " 22  SR-BL          130 non-null    float64\n",
      " 23  AUCTION YEAR   130 non-null    int64  \n",
      " 24  BASE PRICE     130 non-null    int64  \n",
      " 25  SOLD PRICE     130 non-null    int64  \n",
      "dtypes: float64(7), int64(15), object(4)\n",
      "memory usage: 26.5+ KB\n"
     ]
    }
   ],
   "source": [
    "ipl_au.info()"
   ]
  },
  {
   "cell_type": "markdown",
   "metadata": {},
   "source": [
    "There are 130 observtions and 26 columns in the data, and there are no missing values."
   ]
  },
  {
   "cell_type": "markdown",
   "metadata": {},
   "source": [
    "### 2. Display first five records."
   ]
  },
  {
   "cell_type": "markdown",
   "metadata": {},
   "source": [
    "As the number of columns is very large, we will display the initial 10 columns for the first 5 rows. The  function 'iloc()' is used for displaying a subset of the dataset."
   ]
  },
  {
   "cell_type": "code",
   "execution_count": 4,
   "metadata": {},
   "outputs": [
    {
     "data": {
      "text/html": [
       "<div>\n",
       "<style scoped>\n",
       "    .dataframe tbody tr th:only-of-type {\n",
       "        vertical-align: middle;\n",
       "    }\n",
       "\n",
       "    .dataframe tbody tr th {\n",
       "        vertical-align: top;\n",
       "    }\n",
       "\n",
       "    .dataframe thead th {\n",
       "        text-align: right;\n",
       "    }\n",
       "</style>\n",
       "<table border=\"1\" class=\"dataframe\">\n",
       "  <thead>\n",
       "    <tr style=\"text-align: right;\">\n",
       "      <th></th>\n",
       "      <th>Sl.NO.</th>\n",
       "      <th>PLAYER NAME</th>\n",
       "      <th>AGE</th>\n",
       "      <th>COUNTRY</th>\n",
       "      <th>TEAM</th>\n",
       "      <th>PLAYING ROLE</th>\n",
       "      <th>T-RUNS</th>\n",
       "      <th>T-WKTS</th>\n",
       "      <th>ODI-RUNS-S</th>\n",
       "      <th>ODI-SR-B</th>\n",
       "    </tr>\n",
       "  </thead>\n",
       "  <tbody>\n",
       "    <tr>\n",
       "      <th>0</th>\n",
       "      <td>1</td>\n",
       "      <td>Abdulla, YA</td>\n",
       "      <td>2</td>\n",
       "      <td>SA</td>\n",
       "      <td>KXIP</td>\n",
       "      <td>Allrounder</td>\n",
       "      <td>0</td>\n",
       "      <td>0</td>\n",
       "      <td>0</td>\n",
       "      <td>0.00</td>\n",
       "    </tr>\n",
       "    <tr>\n",
       "      <th>1</th>\n",
       "      <td>2</td>\n",
       "      <td>Abdur Razzak</td>\n",
       "      <td>2</td>\n",
       "      <td>BAN</td>\n",
       "      <td>RCB</td>\n",
       "      <td>Bowler</td>\n",
       "      <td>214</td>\n",
       "      <td>18</td>\n",
       "      <td>657</td>\n",
       "      <td>71.41</td>\n",
       "    </tr>\n",
       "    <tr>\n",
       "      <th>2</th>\n",
       "      <td>3</td>\n",
       "      <td>Agarkar, AB</td>\n",
       "      <td>2</td>\n",
       "      <td>IND</td>\n",
       "      <td>KKR</td>\n",
       "      <td>Bowler</td>\n",
       "      <td>571</td>\n",
       "      <td>58</td>\n",
       "      <td>1269</td>\n",
       "      <td>80.62</td>\n",
       "    </tr>\n",
       "    <tr>\n",
       "      <th>3</th>\n",
       "      <td>4</td>\n",
       "      <td>Ashwin, R</td>\n",
       "      <td>1</td>\n",
       "      <td>IND</td>\n",
       "      <td>CSK</td>\n",
       "      <td>Bowler</td>\n",
       "      <td>284</td>\n",
       "      <td>31</td>\n",
       "      <td>241</td>\n",
       "      <td>84.56</td>\n",
       "    </tr>\n",
       "    <tr>\n",
       "      <th>4</th>\n",
       "      <td>5</td>\n",
       "      <td>Badrinath, S</td>\n",
       "      <td>2</td>\n",
       "      <td>IND</td>\n",
       "      <td>CSK</td>\n",
       "      <td>Batsman</td>\n",
       "      <td>63</td>\n",
       "      <td>0</td>\n",
       "      <td>79</td>\n",
       "      <td>45.93</td>\n",
       "    </tr>\n",
       "  </tbody>\n",
       "</table>\n",
       "</div>"
      ],
      "text/plain": [
       "   Sl.NO.   PLAYER NAME  AGE COUNTRY  TEAM PLAYING ROLE  T-RUNS  T-WKTS  \\\n",
       "0       1   Abdulla, YA    2      SA  KXIP   Allrounder       0       0   \n",
       "1       2  Abdur Razzak    2     BAN   RCB       Bowler     214      18   \n",
       "2       3   Agarkar, AB    2     IND   KKR       Bowler     571      58   \n",
       "3       4     Ashwin, R    1     IND   CSK       Bowler     284      31   \n",
       "4       5  Badrinath, S    2     IND   CSK      Batsman      63       0   \n",
       "\n",
       "   ODI-RUNS-S  ODI-SR-B  \n",
       "0           0      0.00  \n",
       "1         657     71.41  \n",
       "2        1269     80.62  \n",
       "3         241     84.56  \n",
       "4          79     45.93  "
      ]
     },
     "execution_count": 4,
     "metadata": {},
     "output_type": "execute_result"
    }
   ],
   "source": [
    "ipl_au.iloc[0:5, 0:10]"
   ]
  },
  {
   "cell_type": "markdown",
   "metadata": {},
   "source": [
    "We can build a model to understand what features of players are influencing their solid price or predict the player's auction price in future."
   ]
  },
  {
   "cell_type": "markdown",
   "metadata": {},
   "source": [
    "We will create a variable x_features which contain the list of features that we will finally use for building the model and ignore the rest of the dataframe. The following function is used for including the features in the model building."
   ]
  },
  {
   "cell_type": "code",
   "execution_count": 5,
   "metadata": {},
   "outputs": [],
   "source": [
    "x_features = ipl_au.columns"
   ]
  },
  {
   "cell_type": "markdown",
   "metadata": {},
   "source": [
    "Most of the features in the dataset are numerical whereas features such as age, country, playing-role, captaincy-exp are cetegorical and hence need to be encoded before building the model."
   ]
  },
  {
   "cell_type": "code",
   "execution_count": 6,
   "metadata": {},
   "outputs": [],
   "source": [
    "x_features=['AGE','COUNTRY','PLAYING ROLE','T-RUNS','T-WKTS','ODI-RUNS-S','ODI-SR-B','ODI-WKTS','ODI-SR-BL','CAPTAINCY EXP','RUNS-S','HS','AVE','SR-B','SIXERS','RUNS-C','WKTS','AVE-BL','ECON','SR-BL']"
   ]
  },
  {
   "cell_type": "markdown",
   "metadata": {},
   "source": [
    "Categorical variable can not be directly included in the regression model building. Let's move to how to do encoding categorical features."
   ]
  },
  {
   "cell_type": "markdown",
   "metadata": {},
   "source": [
    "### 3. Encoding Categorical Features"
   ]
  },
  {
   "cell_type": "markdown",
   "metadata": {},
   "source": [
    "Categorical variable need to be encoded using dummy variable before building the model. If a categorical variable has n categories then we will need n-1 dummy variables. So in the case of playing-role, we will need three dummy variables since there are four categories. Finding unique values of column playing role show the values."
   ]
  },
  {
   "cell_type": "code",
   "execution_count": 7,
   "metadata": {},
   "outputs": [
    {
     "data": {
      "text/plain": [
       "array(['Allrounder', 'Bowler', 'Batsman', 'W. Keeper'], dtype=object)"
      ]
     },
     "execution_count": 7,
     "metadata": {},
     "output_type": "execute_result"
    }
   ],
   "source": [
    "ipl_au['PLAYING ROLE'].unique()"
   ]
  },
  {
   "cell_type": "markdown",
   "metadata": {},
   "source": [
    "The variable convert into four dummy variables. This can be done using the 'get_dummy()' method of 'pandas'."
   ]
  },
  {
   "cell_type": "code",
   "execution_count": 8,
   "metadata": {},
   "outputs": [
    {
     "data": {
      "text/html": [
       "<div>\n",
       "<style scoped>\n",
       "    .dataframe tbody tr th:only-of-type {\n",
       "        vertical-align: middle;\n",
       "    }\n",
       "\n",
       "    .dataframe tbody tr th {\n",
       "        vertical-align: top;\n",
       "    }\n",
       "\n",
       "    .dataframe thead th {\n",
       "        text-align: right;\n",
       "    }\n",
       "</style>\n",
       "<table border=\"1\" class=\"dataframe\">\n",
       "  <thead>\n",
       "    <tr style=\"text-align: right;\">\n",
       "      <th></th>\n",
       "      <th>Allrounder</th>\n",
       "      <th>Batsman</th>\n",
       "      <th>Bowler</th>\n",
       "      <th>W. Keeper</th>\n",
       "    </tr>\n",
       "  </thead>\n",
       "  <tbody>\n",
       "    <tr>\n",
       "      <th>0</th>\n",
       "      <td>1</td>\n",
       "      <td>0</td>\n",
       "      <td>0</td>\n",
       "      <td>0</td>\n",
       "    </tr>\n",
       "    <tr>\n",
       "      <th>1</th>\n",
       "      <td>0</td>\n",
       "      <td>0</td>\n",
       "      <td>1</td>\n",
       "      <td>0</td>\n",
       "    </tr>\n",
       "    <tr>\n",
       "      <th>2</th>\n",
       "      <td>0</td>\n",
       "      <td>0</td>\n",
       "      <td>1</td>\n",
       "      <td>0</td>\n",
       "    </tr>\n",
       "    <tr>\n",
       "      <th>3</th>\n",
       "      <td>0</td>\n",
       "      <td>0</td>\n",
       "      <td>1</td>\n",
       "      <td>0</td>\n",
       "    </tr>\n",
       "    <tr>\n",
       "      <th>4</th>\n",
       "      <td>0</td>\n",
       "      <td>1</td>\n",
       "      <td>0</td>\n",
       "      <td>0</td>\n",
       "    </tr>\n",
       "    <tr>\n",
       "      <th>...</th>\n",
       "      <td>...</td>\n",
       "      <td>...</td>\n",
       "      <td>...</td>\n",
       "      <td>...</td>\n",
       "    </tr>\n",
       "    <tr>\n",
       "      <th>125</th>\n",
       "      <td>0</td>\n",
       "      <td>1</td>\n",
       "      <td>0</td>\n",
       "      <td>0</td>\n",
       "    </tr>\n",
       "    <tr>\n",
       "      <th>126</th>\n",
       "      <td>0</td>\n",
       "      <td>1</td>\n",
       "      <td>0</td>\n",
       "      <td>0</td>\n",
       "    </tr>\n",
       "    <tr>\n",
       "      <th>127</th>\n",
       "      <td>0</td>\n",
       "      <td>1</td>\n",
       "      <td>0</td>\n",
       "      <td>0</td>\n",
       "    </tr>\n",
       "    <tr>\n",
       "      <th>128</th>\n",
       "      <td>0</td>\n",
       "      <td>0</td>\n",
       "      <td>1</td>\n",
       "      <td>0</td>\n",
       "    </tr>\n",
       "    <tr>\n",
       "      <th>129</th>\n",
       "      <td>0</td>\n",
       "      <td>0</td>\n",
       "      <td>1</td>\n",
       "      <td>0</td>\n",
       "    </tr>\n",
       "  </tbody>\n",
       "</table>\n",
       "<p>130 rows × 4 columns</p>\n",
       "</div>"
      ],
      "text/plain": [
       "     Allrounder  Batsman  Bowler  W. Keeper\n",
       "0             1        0       0          0\n",
       "1             0        0       1          0\n",
       "2             0        0       1          0\n",
       "3             0        0       1          0\n",
       "4             0        1       0          0\n",
       "..          ...      ...     ...        ...\n",
       "125           0        1       0          0\n",
       "126           0        1       0          0\n",
       "127           0        1       0          0\n",
       "128           0        0       1          0\n",
       "129           0        0       1          0\n",
       "\n",
       "[130 rows x 4 columns]"
      ]
     },
     "execution_count": 8,
     "metadata": {},
     "output_type": "execute_result"
    }
   ],
   "source": [
    "pd.get_dummies(ipl_au['PLAYING ROLE'])"
   ]
  },
  {
   "cell_type": "markdown",
   "metadata": {},
   "source": [
    "We can create dummy variable for all categorical variable present  in the dataset."
   ]
  },
  {
   "cell_type": "code",
   "execution_count": 9,
   "metadata": {},
   "outputs": [
    {
     "data": {
      "text/plain": [
       "Index(['T-RUNS', 'T-WKTS', 'ODI-RUNS-S', 'ODI-SR-B', 'ODI-WKTS', 'ODI-SR-BL',\n",
       "       'RUNS-S', 'HS', 'AVE', 'SR-B', 'SIXERS', 'RUNS-C', 'WKTS', 'AVE-BL',\n",
       "       'ECON', 'SR-BL', 'AGE_2', 'AGE_3', 'COUNTRY_BAN', 'COUNTRY_ENG',\n",
       "       'COUNTRY_IND', 'COUNTRY_NZ', 'COUNTRY_PAK', 'COUNTRY_SA', 'COUNTRY_SL',\n",
       "       'COUNTRY_WI', 'COUNTRY_ZIM', 'PLAYING ROLE_Batsman',\n",
       "       'PLAYING ROLE_Bowler', 'PLAYING ROLE_W. Keeper', 'CAPTAINCY EXP_1'],\n",
       "      dtype='object')"
      ]
     },
     "execution_count": 9,
     "metadata": {},
     "output_type": "execute_result"
    }
   ],
   "source": [
    "cate_features=['AGE','COUNTRY','PLAYING ROLE','CAPTAINCY EXP']\n",
    "ipl_au_encoded_df = pd.get_dummies(ipl_au[x_features],columns=cate_features,drop_first=True)\n",
    "ipl_au_encoded_df.columns"
   ]
  },
  {
   "cell_type": "markdown",
   "metadata": {},
   "source": [
    "The dataset contains the new dummy variables that have been created. we can reassign the new features to the variable x_features, which we created earlier to keep track of all features that will be used to build the model finally."
   ]
  },
  {
   "cell_type": "code",
   "execution_count": 10,
   "metadata": {},
   "outputs": [],
   "source": [
    "x_features = ipl_au_encoded_df.columns"
   ]
  },
  {
   "cell_type": "markdown",
   "metadata": {},
   "source": [
    "### 4. Splitting the datset into train and validation set"
   ]
  },
  {
   "cell_type": "markdown",
   "metadata": {},
   "source": [
    "Before building the model, we will split the dataset into 80-20 ratios. The split function allows using a parameter random_state, which is a seed function for randomness, Here we will use the random state value is 42."
   ]
  },
  {
   "cell_type": "code",
   "execution_count": 11,
   "metadata": {},
   "outputs": [],
   "source": [
    "#import stats models api as sm\n",
    "from statsmodels import api as sm\n",
    "from sklearn.model_selection import train_test_split"
   ]
  },
  {
   "cell_type": "code",
   "execution_count": 12,
   "metadata": {},
   "outputs": [],
   "source": [
    "x = sm.add_constant(ipl_au_encoded_df)\n",
    "y = ipl_au['SOLD PRICE']\n",
    "X_train, X_test, Y_train, Y_test = train_test_split(x, y, test_size=0.8, random_state=42)"
   ]
  },
  {
   "cell_type": "markdown",
   "metadata": {},
   "source": [
    "Using another random vale may give different training and test data hence different results."
   ]
  },
  {
   "cell_type": "markdown",
   "metadata": {},
   "source": [
    "### 5. Building the Model on the Training Dataset"
   ]
  },
  {
   "cell_type": "markdown",
   "metadata": {},
   "source": [
    "We will build the Multiple Linear Regression (MLR) model using training dataset and analyze the model summary. The Summary provides details of the model accuracy, feature significance, and signs of any multi-collinearity effect, which will discuss in detail in the next section."
   ]
  },
  {
   "cell_type": "code",
   "execution_count": 13,
   "metadata": {},
   "outputs": [
    {
     "name": "stderr",
     "output_type": "stream",
     "text": [
      "D:\\Anaconda\\lib\\site-packages\\statsmodels\\regression\\linear_model.py:1650: RuntimeWarning: divide by zero encountered in double_scalars\n",
      "  return np.dot(wresid, wresid) / self.df_resid\n",
      "D:\\Anaconda\\lib\\site-packages\\statsmodels\\regression\\linear_model.py:1728: RuntimeWarning: divide by zero encountered in true_divide\n",
      "  return 1 - (np.divide(self.nobs - self.k_constant, self.df_resid)\n",
      "D:\\Anaconda\\lib\\site-packages\\statsmodels\\regression\\linear_model.py:1728: RuntimeWarning: invalid value encountered in double_scalars\n",
      "  return 1 - (np.divide(self.nobs - self.k_constant, self.df_resid)\n"
     ]
    },
    {
     "data": {
      "text/html": [
       "<table class=\"simpletable\">\n",
       "<tr>\n",
       "        <td>Model:</td>               <td>OLS</td>         <td>Adj. R-squared:</td>      <td>nan</td>   \n",
       "</tr>\n",
       "<tr>\n",
       "  <td>Dependent Variable:</td>    <td>SOLD PRICE</td>           <td>AIC:</td>         <td>-592.1167</td>\n",
       "</tr>\n",
       "<tr>\n",
       "         <td>Date:</td>        <td>2021-07-26 17:52</td>        <td>BIC:</td>         <td>-559.4061</td>\n",
       "</tr>\n",
       "<tr>\n",
       "   <td>No. Observations:</td>         <td>26</td>          <td>Log-Likelihood:</td>    <td>322.06</td>  \n",
       "</tr>\n",
       "<tr>\n",
       "       <td>Df Model:</td>             <td>25</td>           <td>F-statistic:</td>        <td>nan</td>   \n",
       "</tr>\n",
       "<tr>\n",
       "     <td>Df Residuals:</td>            <td>0</td>        <td>Prob (F-statistic):</td>    <td>nan</td>   \n",
       "</tr>\n",
       "<tr>\n",
       "      <td>R-squared:</td>            <td>1.000</td>            <td>Scale:</td>           <td>inf</td>   \n",
       "</tr>\n",
       "</table>\n",
       "<table class=\"simpletable\">\n",
       "<tr>\n",
       "             <td></td>                <th>Coef.</th>    <th>Std.Err.</th>    <th>t</th>    <th>P>|t|</th> <th>[0.025</th> <th>0.975]</th>\n",
       "</tr>\n",
       "<tr>\n",
       "  <th>const</th>                   <td>889878.5781</td>    <td>inf</td>   <td>0.0000</td>   <td>nan</td>    <td>nan</td>    <td>nan</td> \n",
       "</tr>\n",
       "<tr>\n",
       "  <th>T-RUNS</th>                    <td>-8.4505</td>      <td>inf</td>   <td>-0.0000</td>  <td>nan</td>    <td>nan</td>    <td>nan</td> \n",
       "</tr>\n",
       "<tr>\n",
       "  <th>T-WKTS</th>                   <td>-789.8825</td>     <td>inf</td>   <td>-0.0000</td>  <td>nan</td>    <td>nan</td>    <td>nan</td> \n",
       "</tr>\n",
       "<tr>\n",
       "  <th>ODI-RUNS-S</th>               <td>-18.5443</td>      <td>inf</td>   <td>-0.0000</td>  <td>nan</td>    <td>nan</td>    <td>nan</td> \n",
       "</tr>\n",
       "<tr>\n",
       "  <th>ODI-SR-B</th>                <td>-3968.0917</td>     <td>inf</td>   <td>-0.0000</td>  <td>nan</td>    <td>nan</td>    <td>nan</td> \n",
       "</tr>\n",
       "<tr>\n",
       "  <th>ODI-WKTS</th>                 <td>1106.1315</td>     <td>inf</td>   <td>0.0000</td>   <td>nan</td>    <td>nan</td>    <td>nan</td> \n",
       "</tr>\n",
       "<tr>\n",
       "  <th>ODI-SR-BL</th>               <td>-10001.6010</td>    <td>inf</td>   <td>-0.0000</td>  <td>nan</td>    <td>nan</td>    <td>nan</td> \n",
       "</tr>\n",
       "<tr>\n",
       "  <th>RUNS-S</th>                   <td>-119.7123</td>     <td>inf</td>   <td>-0.0000</td>  <td>nan</td>    <td>nan</td>    <td>nan</td> \n",
       "</tr>\n",
       "<tr>\n",
       "  <th>HS</th>                      <td>-7054.0690</td>     <td>inf</td>   <td>-0.0000</td>  <td>nan</td>    <td>nan</td>    <td>nan</td> \n",
       "</tr>\n",
       "<tr>\n",
       "  <th>AVE</th>                     <td>30238.5591</td>     <td>inf</td>   <td>0.0000</td>   <td>nan</td>    <td>nan</td>    <td>nan</td> \n",
       "</tr>\n",
       "<tr>\n",
       "  <th>SR-B</th>                    <td>-3917.3870</td>     <td>inf</td>   <td>-0.0000</td>  <td>nan</td>    <td>nan</td>    <td>nan</td> \n",
       "</tr>\n",
       "<tr>\n",
       "  <th>SIXERS</th>                  <td>12088.0647</td>     <td>inf</td>   <td>0.0000</td>   <td>nan</td>    <td>nan</td>    <td>nan</td> \n",
       "</tr>\n",
       "<tr>\n",
       "  <th>RUNS-C</th>                   <td>-108.3615</td>     <td>inf</td>   <td>-0.0000</td>  <td>nan</td>    <td>nan</td>    <td>nan</td> \n",
       "</tr>\n",
       "<tr>\n",
       "  <th>WKTS</th>                    <td>13135.5269</td>     <td>inf</td>   <td>0.0000</td>   <td>nan</td>    <td>nan</td>    <td>nan</td> \n",
       "</tr>\n",
       "<tr>\n",
       "  <th>AVE-BL</th>                  <td>12132.0004</td>     <td>inf</td>   <td>0.0000</td>   <td>nan</td>    <td>nan</td>    <td>nan</td> \n",
       "</tr>\n",
       "<tr>\n",
       "  <th>ECON</th>                    <td>-52411.2861</td>    <td>inf</td>   <td>-0.0000</td>  <td>nan</td>    <td>nan</td>    <td>nan</td> \n",
       "</tr>\n",
       "<tr>\n",
       "  <th>SR-BL</th>                   <td>-13051.7440</td>    <td>inf</td>   <td>-0.0000</td>  <td>nan</td>    <td>nan</td>    <td>nan</td> \n",
       "</tr>\n",
       "<tr>\n",
       "  <th>AGE_2</th>                   <td>437507.4351</td>    <td>inf</td>   <td>0.0000</td>   <td>nan</td>    <td>nan</td>    <td>nan</td> \n",
       "</tr>\n",
       "<tr>\n",
       "  <th>AGE_3</th>                   <td>452371.1430</td>    <td>inf</td>   <td>0.0000</td>   <td>nan</td>    <td>nan</td>    <td>nan</td> \n",
       "</tr>\n",
       "<tr>\n",
       "  <th>COUNTRY_BAN</th>             <td>45793.9965</td>     <td>inf</td>   <td>0.0000</td>   <td>nan</td>    <td>nan</td>    <td>nan</td> \n",
       "</tr>\n",
       "<tr>\n",
       "  <th>COUNTRY_ENG</th>             <td>335357.2354</td>    <td>inf</td>   <td>0.0000</td>   <td>nan</td>    <td>nan</td>    <td>nan</td> \n",
       "</tr>\n",
       "<tr>\n",
       "  <th>COUNTRY_IND</th>            <td>-270772.4785</td>    <td>inf</td>   <td>-0.0000</td>  <td>nan</td>    <td>nan</td>    <td>nan</td> \n",
       "</tr>\n",
       "<tr>\n",
       "  <th>COUNTRY_NZ</th>             <td>-131153.1394</td>    <td>inf</td>   <td>-0.0000</td>  <td>nan</td>    <td>nan</td>    <td>nan</td> \n",
       "</tr>\n",
       "<tr>\n",
       "  <th>COUNTRY_PAK</th>            <td>-138027.6865</td>    <td>inf</td>   <td>-0.0000</td>  <td>nan</td>    <td>nan</td>    <td>nan</td> \n",
       "</tr>\n",
       "<tr>\n",
       "  <th>COUNTRY_SA</th>             <td>-181622.4257</td>    <td>inf</td>   <td>-0.0000</td>  <td>nan</td>    <td>nan</td>    <td>nan</td> \n",
       "</tr>\n",
       "<tr>\n",
       "  <th>COUNTRY_SL</th>              <td>78169.5975</td>     <td>inf</td>   <td>0.0000</td>   <td>nan</td>    <td>nan</td>    <td>nan</td> \n",
       "</tr>\n",
       "<tr>\n",
       "  <th>COUNTRY_WI</th>               <td>1766.1377</td>     <td>inf</td>   <td>0.0000</td>   <td>nan</td>    <td>nan</td>    <td>nan</td> \n",
       "</tr>\n",
       "<tr>\n",
       "  <th>COUNTRY_ZIM</th>            <td>-468324.9232</td>    <td>inf</td>   <td>-0.0000</td>  <td>nan</td>    <td>nan</td>    <td>nan</td> \n",
       "</tr>\n",
       "<tr>\n",
       "  <th>PLAYING ROLE_Batsman</th>   <td>-241217.9400</td>    <td>inf</td>   <td>-0.0000</td>  <td>nan</td>    <td>nan</td>    <td>nan</td> \n",
       "</tr>\n",
       "<tr>\n",
       "  <th>PLAYING ROLE_Bowler</th>     <td>-77076.7114</td>    <td>inf</td>   <td>-0.0000</td>  <td>nan</td>    <td>nan</td>    <td>nan</td> \n",
       "</tr>\n",
       "<tr>\n",
       "  <th>PLAYING ROLE_W. Keeper</th> <td>-318620.5133</td>    <td>inf</td>   <td>-0.0000</td>  <td>nan</td>    <td>nan</td>    <td>nan</td> \n",
       "</tr>\n",
       "<tr>\n",
       "  <th>CAPTAINCY EXP_1</th>         <td>611580.9227</td>    <td>inf</td>   <td>0.0000</td>   <td>nan</td>    <td>nan</td>    <td>nan</td> \n",
       "</tr>\n",
       "</table>\n",
       "<table class=\"simpletable\">\n",
       "<tr>\n",
       "     <td>Omnibus:</td>    <td>23.941</td>  <td>Durbin-Watson:</td>    <td>2.210</td>\n",
       "</tr>\n",
       "<tr>\n",
       "  <td>Prob(Omnibus):</td>  <td>0.000</td> <td>Jarque-Bera (JB):</td> <td>38.229</td>\n",
       "</tr>\n",
       "<tr>\n",
       "       <td>Skew:</td>      <td>1.958</td>     <td>Prob(JB):</td>      <td>0.000</td>\n",
       "</tr>\n",
       "<tr>\n",
       "     <td>Kurtosis:</td>    <td>7.467</td>  <td>Condition No.:</td>   <td>228440</td>\n",
       "</tr>\n",
       "</table>"
      ],
      "text/plain": [
       "<class 'statsmodels.iolib.summary2.Summary'>\n",
       "\"\"\"\n",
       "                    Results: Ordinary least squares\n",
       "========================================================================\n",
       "Model:                OLS                Adj. R-squared:       nan      \n",
       "Dependent Variable:   SOLD PRICE         AIC:                  -592.1167\n",
       "Date:                 2021-07-26 17:52   BIC:                  -559.4061\n",
       "No. Observations:     26                 Log-Likelihood:       322.06   \n",
       "Df Model:             25                 F-statistic:          nan      \n",
       "Df Residuals:         0                  Prob (F-statistic):   nan      \n",
       "R-squared:            1.000              Scale:                inf      \n",
       "------------------------------------------------------------------------\n",
       "                          Coef.     Std.Err.    t    P>|t| [0.025 0.975]\n",
       "------------------------------------------------------------------------\n",
       "const                   889878.5781      inf  0.0000   nan    nan    nan\n",
       "T-RUNS                      -8.4505      inf -0.0000   nan    nan    nan\n",
       "T-WKTS                    -789.8825      inf -0.0000   nan    nan    nan\n",
       "ODI-RUNS-S                 -18.5443      inf -0.0000   nan    nan    nan\n",
       "ODI-SR-B                 -3968.0917      inf -0.0000   nan    nan    nan\n",
       "ODI-WKTS                  1106.1315      inf  0.0000   nan    nan    nan\n",
       "ODI-SR-BL               -10001.6010      inf -0.0000   nan    nan    nan\n",
       "RUNS-S                    -119.7123      inf -0.0000   nan    nan    nan\n",
       "HS                       -7054.0690      inf -0.0000   nan    nan    nan\n",
       "AVE                      30238.5591      inf  0.0000   nan    nan    nan\n",
       "SR-B                     -3917.3870      inf -0.0000   nan    nan    nan\n",
       "SIXERS                   12088.0647      inf  0.0000   nan    nan    nan\n",
       "RUNS-C                    -108.3615      inf -0.0000   nan    nan    nan\n",
       "WKTS                     13135.5269      inf  0.0000   nan    nan    nan\n",
       "AVE-BL                   12132.0004      inf  0.0000   nan    nan    nan\n",
       "ECON                    -52411.2861      inf -0.0000   nan    nan    nan\n",
       "SR-BL                   -13051.7440      inf -0.0000   nan    nan    nan\n",
       "AGE_2                   437507.4351      inf  0.0000   nan    nan    nan\n",
       "AGE_3                   452371.1430      inf  0.0000   nan    nan    nan\n",
       "COUNTRY_BAN              45793.9965      inf  0.0000   nan    nan    nan\n",
       "COUNTRY_ENG             335357.2354      inf  0.0000   nan    nan    nan\n",
       "COUNTRY_IND            -270772.4785      inf -0.0000   nan    nan    nan\n",
       "COUNTRY_NZ             -131153.1394      inf -0.0000   nan    nan    nan\n",
       "COUNTRY_PAK            -138027.6865      inf -0.0000   nan    nan    nan\n",
       "COUNTRY_SA             -181622.4257      inf -0.0000   nan    nan    nan\n",
       "COUNTRY_SL               78169.5975      inf  0.0000   nan    nan    nan\n",
       "COUNTRY_WI                1766.1377      inf  0.0000   nan    nan    nan\n",
       "COUNTRY_ZIM            -468324.9232      inf -0.0000   nan    nan    nan\n",
       "PLAYING ROLE_Batsman   -241217.9400      inf -0.0000   nan    nan    nan\n",
       "PLAYING ROLE_Bowler     -77076.7114      inf -0.0000   nan    nan    nan\n",
       "PLAYING ROLE_W. Keeper -318620.5133      inf -0.0000   nan    nan    nan\n",
       "CAPTAINCY EXP_1         611580.9227      inf  0.0000   nan    nan    nan\n",
       "------------------------------------------------------------------------\n",
       "Omnibus:                 23.941         Durbin-Watson:            2.210 \n",
       "Prob(Omnibus):           0.000          Jarque-Bera (JB):         38.229\n",
       "Skew:                    1.958          Prob(JB):                 0.000 \n",
       "Kurtosis:                7.467          Condition No.:            228440\n",
       "========================================================================\n",
       "* The condition number is large (2e+05). This might indicate\n",
       "strong multicollinearity or other numerical problems.\n",
       "\"\"\""
      ]
     },
     "execution_count": 13,
     "metadata": {},
     "output_type": "execute_result"
    }
   ],
   "source": [
    "ipl_model_1=sm.OLS(Y_train,X_train).fit()\n",
    "ipl_model_1.summary2()"
   ]
  },
  {
   "cell_type": "markdown",
   "metadata": {},
   "source": [
    "In the MLR model, as per the p-value (< 0.05), only the features HS, AGE_2, AVE and Country_ENG have come out significant. The model says that none of the other features is influening sold price.This is not very intuitive and colud be a result of the multi-collinearly effect of variables. For better results, we need to handle multicollinearity. Let's understand what this is?"
   ]
  },
  {
   "cell_type": "markdown",
   "metadata": {},
   "source": [
    "### 6. Multi-Collinearity and Handling Multi-Collinearity"
   ]
  },
  {
   "cell_type": "markdown",
   "metadata": {},
   "source": [
    "When the dataset has a large number of independent variables, it is possible that few of these independent variables may be highly correlated. The existence of a high correlation between independent variable is called multi-collinearity."
   ]
  },
  {
   "cell_type": "markdown",
   "metadata": {},
   "source": [
    "The presence of multicollinearity can destabilize the multiple liear regression model. It is necessary to identify the presence of multi-collinearity and take corrective actions."
   ]
  },
  {
   "cell_type": "markdown",
   "metadata": {},
   "source": [
    "There are two ways to handle multi-collinearity:-"
   ]
  },
  {
   "cell_type": "markdown",
   "metadata": {},
   "source": [
    "#### 6.1 Variance Inflation Factor (VIP)"
   ]
  },
  {
   "cell_type": "markdown",
   "metadata": {},
   "source": [
    "The variance inflation factor is a used for identifying the existence of multi-colliearity."
   ]
  },
  {
   "cell_type": "markdown",
   "metadata": {},
   "source": [
    "variance_inflation_factor() method available in statsmodels.stats.outliers_influence package can be used to calculate VIF for the features."
   ]
  },
  {
   "cell_type": "code",
   "execution_count": 14,
   "metadata": {},
   "outputs": [],
   "source": [
    "from statsmodels.stats.outliers_influence import variance_inflation_factor\n",
    "\n",
    "def get_vif_factors(x):\n",
    "    x_matrix = x.to_numpy()\n",
    "    vif = [variance_inflation_factor(x_matrix, i) for i in range(x_matrix.shape[1])]\n",
    "    vif_factors = pd.DataFrame()\n",
    "    vif_factors['column'] = x.columns\n",
    "    vif_factors['VIF'] = vif\n",
    "    return vif_factors"
   ]
  },
  {
   "cell_type": "markdown",
   "metadata": {},
   "source": [
    "Now, calling the above function with the x features will return the VIF for th corresponding features."
   ]
  },
  {
   "cell_type": "code",
   "execution_count": 15,
   "metadata": {
    "scrolled": true
   },
   "outputs": [
    {
     "data": {
      "text/html": [
       "<div>\n",
       "<style scoped>\n",
       "    .dataframe tbody tr th:only-of-type {\n",
       "        vertical-align: middle;\n",
       "    }\n",
       "\n",
       "    .dataframe tbody tr th {\n",
       "        vertical-align: top;\n",
       "    }\n",
       "\n",
       "    .dataframe thead th {\n",
       "        text-align: right;\n",
       "    }\n",
       "</style>\n",
       "<table border=\"1\" class=\"dataframe\">\n",
       "  <thead>\n",
       "    <tr style=\"text-align: right;\">\n",
       "      <th></th>\n",
       "      <th>column</th>\n",
       "      <th>VIF</th>\n",
       "    </tr>\n",
       "  </thead>\n",
       "  <tbody>\n",
       "    <tr>\n",
       "      <th>0</th>\n",
       "      <td>T-RUNS</td>\n",
       "      <td>12.612694</td>\n",
       "    </tr>\n",
       "    <tr>\n",
       "      <th>1</th>\n",
       "      <td>T-WKTS</td>\n",
       "      <td>7.679284</td>\n",
       "    </tr>\n",
       "    <tr>\n",
       "      <th>2</th>\n",
       "      <td>ODI-RUNS-S</td>\n",
       "      <td>16.426209</td>\n",
       "    </tr>\n",
       "    <tr>\n",
       "      <th>3</th>\n",
       "      <td>ODI-SR-B</td>\n",
       "      <td>13.829376</td>\n",
       "    </tr>\n",
       "    <tr>\n",
       "      <th>4</th>\n",
       "      <td>ODI-WKTS</td>\n",
       "      <td>9.951800</td>\n",
       "    </tr>\n",
       "    <tr>\n",
       "      <th>5</th>\n",
       "      <td>ODI-SR-BL</td>\n",
       "      <td>4.426818</td>\n",
       "    </tr>\n",
       "    <tr>\n",
       "      <th>6</th>\n",
       "      <td>RUNS-S</td>\n",
       "      <td>16.135407</td>\n",
       "    </tr>\n",
       "    <tr>\n",
       "      <th>7</th>\n",
       "      <td>HS</td>\n",
       "      <td>22.781017</td>\n",
       "    </tr>\n",
       "    <tr>\n",
       "      <th>8</th>\n",
       "      <td>AVE</td>\n",
       "      <td>25.226566</td>\n",
       "    </tr>\n",
       "    <tr>\n",
       "      <th>9</th>\n",
       "      <td>SR-B</td>\n",
       "      <td>21.576204</td>\n",
       "    </tr>\n",
       "    <tr>\n",
       "      <th>10</th>\n",
       "      <td>SIXERS</td>\n",
       "      <td>9.547268</td>\n",
       "    </tr>\n",
       "    <tr>\n",
       "      <th>11</th>\n",
       "      <td>RUNS-C</td>\n",
       "      <td>38.229691</td>\n",
       "    </tr>\n",
       "    <tr>\n",
       "      <th>12</th>\n",
       "      <td>WKTS</td>\n",
       "      <td>33.366067</td>\n",
       "    </tr>\n",
       "    <tr>\n",
       "      <th>13</th>\n",
       "      <td>AVE-BL</td>\n",
       "      <td>100.198105</td>\n",
       "    </tr>\n",
       "    <tr>\n",
       "      <th>14</th>\n",
       "      <td>ECON</td>\n",
       "      <td>7.650140</td>\n",
       "    </tr>\n",
       "    <tr>\n",
       "      <th>15</th>\n",
       "      <td>SR-BL</td>\n",
       "      <td>103.723846</td>\n",
       "    </tr>\n",
       "    <tr>\n",
       "      <th>16</th>\n",
       "      <td>AGE_2</td>\n",
       "      <td>6.996226</td>\n",
       "    </tr>\n",
       "    <tr>\n",
       "      <th>17</th>\n",
       "      <td>AGE_3</td>\n",
       "      <td>3.855003</td>\n",
       "    </tr>\n",
       "    <tr>\n",
       "      <th>18</th>\n",
       "      <td>COUNTRY_BAN</td>\n",
       "      <td>1.469017</td>\n",
       "    </tr>\n",
       "    <tr>\n",
       "      <th>19</th>\n",
       "      <td>COUNTRY_ENG</td>\n",
       "      <td>1.391524</td>\n",
       "    </tr>\n",
       "    <tr>\n",
       "      <th>20</th>\n",
       "      <td>COUNTRY_IND</td>\n",
       "      <td>4.568898</td>\n",
       "    </tr>\n",
       "    <tr>\n",
       "      <th>21</th>\n",
       "      <td>COUNTRY_NZ</td>\n",
       "      <td>1.497856</td>\n",
       "    </tr>\n",
       "    <tr>\n",
       "      <th>22</th>\n",
       "      <td>COUNTRY_PAK</td>\n",
       "      <td>1.796355</td>\n",
       "    </tr>\n",
       "    <tr>\n",
       "      <th>23</th>\n",
       "      <td>COUNTRY_SA</td>\n",
       "      <td>1.886555</td>\n",
       "    </tr>\n",
       "    <tr>\n",
       "      <th>24</th>\n",
       "      <td>COUNTRY_SL</td>\n",
       "      <td>1.984902</td>\n",
       "    </tr>\n",
       "    <tr>\n",
       "      <th>25</th>\n",
       "      <td>COUNTRY_WI</td>\n",
       "      <td>1.531847</td>\n",
       "    </tr>\n",
       "    <tr>\n",
       "      <th>26</th>\n",
       "      <td>COUNTRY_ZIM</td>\n",
       "      <td>1.312168</td>\n",
       "    </tr>\n",
       "    <tr>\n",
       "      <th>27</th>\n",
       "      <td>PLAYING ROLE_Batsman</td>\n",
       "      <td>4.843136</td>\n",
       "    </tr>\n",
       "    <tr>\n",
       "      <th>28</th>\n",
       "      <td>PLAYING ROLE_Bowler</td>\n",
       "      <td>3.795864</td>\n",
       "    </tr>\n",
       "    <tr>\n",
       "      <th>29</th>\n",
       "      <td>PLAYING ROLE_W. Keeper</td>\n",
       "      <td>3.132044</td>\n",
       "    </tr>\n",
       "    <tr>\n",
       "      <th>30</th>\n",
       "      <td>CAPTAINCY EXP_1</td>\n",
       "      <td>4.245128</td>\n",
       "    </tr>\n",
       "  </tbody>\n",
       "</table>\n",
       "</div>"
      ],
      "text/plain": [
       "                    column         VIF\n",
       "0                   T-RUNS   12.612694\n",
       "1                   T-WKTS    7.679284\n",
       "2               ODI-RUNS-S   16.426209\n",
       "3                 ODI-SR-B   13.829376\n",
       "4                 ODI-WKTS    9.951800\n",
       "5                ODI-SR-BL    4.426818\n",
       "6                   RUNS-S   16.135407\n",
       "7                       HS   22.781017\n",
       "8                      AVE   25.226566\n",
       "9                     SR-B   21.576204\n",
       "10                  SIXERS    9.547268\n",
       "11                  RUNS-C   38.229691\n",
       "12                    WKTS   33.366067\n",
       "13                  AVE-BL  100.198105\n",
       "14                    ECON    7.650140\n",
       "15                   SR-BL  103.723846\n",
       "16                   AGE_2    6.996226\n",
       "17                   AGE_3    3.855003\n",
       "18             COUNTRY_BAN    1.469017\n",
       "19             COUNTRY_ENG    1.391524\n",
       "20             COUNTRY_IND    4.568898\n",
       "21              COUNTRY_NZ    1.497856\n",
       "22             COUNTRY_PAK    1.796355\n",
       "23              COUNTRY_SA    1.886555\n",
       "24              COUNTRY_SL    1.984902\n",
       "25              COUNTRY_WI    1.531847\n",
       "26             COUNTRY_ZIM    1.312168\n",
       "27    PLAYING ROLE_Batsman    4.843136\n",
       "28     PLAYING ROLE_Bowler    3.795864\n",
       "29  PLAYING ROLE_W. Keeper    3.132044\n",
       "30         CAPTAINCY EXP_1    4.245128"
      ]
     },
     "execution_count": 15,
     "metadata": {},
     "output_type": "execute_result"
    }
   ],
   "source": [
    "vif_factors = get_vif_factors(x[x_features])\n",
    "vif_factors"
   ]
  },
  {
   "cell_type": "markdown",
   "metadata": {},
   "source": [
    "#### 6.2. Checking correlation of columns with large VIFs"
   ]
  },
  {
   "cell_type": "markdown",
   "metadata": {},
   "source": [
    "We can generate a correlation heatmap to understand the correlation between the independent variable which can be used ti decide which feature to include in the model. We will first select the features that have a VIF value of more than 4."
   ]
  },
  {
   "cell_type": "code",
   "execution_count": 17,
   "metadata": {},
   "outputs": [],
   "source": [
    "columns_with_large_vif = vif_factors[vif_factors.VIF > 4].column"
   ]
  },
  {
   "cell_type": "markdown",
   "metadata": {},
   "source": [
    "##### Then plot the heatmap for features with VIF more than 4."
   ]
  },
  {
   "cell_type": "code",
   "execution_count": 18,
   "metadata": {},
   "outputs": [
    {
     "data": {
      "text/plain": [
       "Text(0.5, 1.0, 'Heatmap depicting corr between features')"
      ]
     },
     "execution_count": 18,
     "metadata": {},
     "output_type": "execute_result"
    },
    {
     "data": {
      "image/png": "[encoded data removed]",
      "text/plain": [
       "<Figure size 864x720 with 2 Axes>"
      ]
     },
     "metadata": {
      "needs_background": "light"
     },
     "output_type": "display_data"
    }
   ],
   "source": [
    "import seaborn as sn\n",
    "import matplotlib.pyplot as plt\n",
    "plt.figure(figsize = (12, 10))\n",
    "sn.heatmap(x[columns_with_large_vif].corr(), annot = True)\n",
    "plt.title(\"Heatmap depicting corr between features\")"
   ]
  },
  {
   "cell_type": "markdown",
   "metadata": {},
   "source": [
    "To avoid mlticollinearity, we can keep only one column from each group of highly correlated variable and removes the others. We have decided to remove the following features."
   ]
  },
  {
   "cell_type": "code",
   "execution_count": 19,
   "metadata": {},
   "outputs": [
    {
     "data": {
      "text/html": [
       "<div>\n",
       "<style scoped>\n",
       "    .dataframe tbody tr th:only-of-type {\n",
       "        vertical-align: middle;\n",
       "    }\n",
       "\n",
       "    .dataframe tbody tr th {\n",
       "        vertical-align: top;\n",
       "    }\n",
       "\n",
       "    .dataframe thead th {\n",
       "        text-align: right;\n",
       "    }\n",
       "</style>\n",
       "<table border=\"1\" class=\"dataframe\">\n",
       "  <thead>\n",
       "    <tr style=\"text-align: right;\">\n",
       "      <th></th>\n",
       "      <th>column</th>\n",
       "      <th>VIF</th>\n",
       "    </tr>\n",
       "  </thead>\n",
       "  <tbody>\n",
       "    <tr>\n",
       "      <th>0</th>\n",
       "      <td>COUNTRY_SA</td>\n",
       "      <td>1.416657</td>\n",
       "    </tr>\n",
       "    <tr>\n",
       "      <th>1</th>\n",
       "      <td>COUNTRY_BAN</td>\n",
       "      <td>1.094293</td>\n",
       "    </tr>\n",
       "    <tr>\n",
       "      <th>2</th>\n",
       "      <td>SIXERS</td>\n",
       "      <td>2.397409</td>\n",
       "    </tr>\n",
       "    <tr>\n",
       "      <th>3</th>\n",
       "      <td>PLAYING ROLE_W. Keeper</td>\n",
       "      <td>1.900941</td>\n",
       "    </tr>\n",
       "    <tr>\n",
       "      <th>4</th>\n",
       "      <td>ODI-SR-BL</td>\n",
       "      <td>2.822148</td>\n",
       "    </tr>\n",
       "    <tr>\n",
       "      <th>5</th>\n",
       "      <td>COUNTRY_WI</td>\n",
       "      <td>1.194093</td>\n",
       "    </tr>\n",
       "    <tr>\n",
       "      <th>6</th>\n",
       "      <td>COUNTRY_IND</td>\n",
       "      <td>3.144668</td>\n",
       "    </tr>\n",
       "    <tr>\n",
       "      <th>7</th>\n",
       "      <td>COUNTRY_NZ</td>\n",
       "      <td>1.173418</td>\n",
       "    </tr>\n",
       "    <tr>\n",
       "      <th>8</th>\n",
       "      <td>WKTS</td>\n",
       "      <td>2.883101</td>\n",
       "    </tr>\n",
       "    <tr>\n",
       "      <th>9</th>\n",
       "      <td>COUNTRY_PAK</td>\n",
       "      <td>1.334773</td>\n",
       "    </tr>\n",
       "    <tr>\n",
       "      <th>10</th>\n",
       "      <td>COUNTRY_SL</td>\n",
       "      <td>1.519752</td>\n",
       "    </tr>\n",
       "    <tr>\n",
       "      <th>11</th>\n",
       "      <td>PLAYING ROLE_Bowler</td>\n",
       "      <td>3.060168</td>\n",
       "    </tr>\n",
       "    <tr>\n",
       "      <th>12</th>\n",
       "      <td>COUNTRY_ENG</td>\n",
       "      <td>1.131869</td>\n",
       "    </tr>\n",
       "    <tr>\n",
       "      <th>13</th>\n",
       "      <td>COUNTRY_ZIM</td>\n",
       "      <td>1.205305</td>\n",
       "    </tr>\n",
       "    <tr>\n",
       "      <th>14</th>\n",
       "      <td>ODI-WKTS</td>\n",
       "      <td>2.742889</td>\n",
       "    </tr>\n",
       "    <tr>\n",
       "      <th>15</th>\n",
       "      <td>CAPTAINCY EXP_1</td>\n",
       "      <td>2.458745</td>\n",
       "    </tr>\n",
       "    <tr>\n",
       "      <th>16</th>\n",
       "      <td>PLAYING ROLE_Batsman</td>\n",
       "      <td>2.680207</td>\n",
       "    </tr>\n",
       "    <tr>\n",
       "      <th>17</th>\n",
       "      <td>AGE_3</td>\n",
       "      <td>1.779861</td>\n",
       "    </tr>\n",
       "  </tbody>\n",
       "</table>\n",
       "</div>"
      ],
      "text/plain": [
       "                    column       VIF\n",
       "0               COUNTRY_SA  1.416657\n",
       "1              COUNTRY_BAN  1.094293\n",
       "2                   SIXERS  2.397409\n",
       "3   PLAYING ROLE_W. Keeper  1.900941\n",
       "4                ODI-SR-BL  2.822148\n",
       "5               COUNTRY_WI  1.194093\n",
       "6              COUNTRY_IND  3.144668\n",
       "7               COUNTRY_NZ  1.173418\n",
       "8                     WKTS  2.883101\n",
       "9              COUNTRY_PAK  1.334773\n",
       "10              COUNTRY_SL  1.519752\n",
       "11     PLAYING ROLE_Bowler  3.060168\n",
       "12             COUNTRY_ENG  1.131869\n",
       "13             COUNTRY_ZIM  1.205305\n",
       "14                ODI-WKTS  2.742889\n",
       "15         CAPTAINCY EXP_1  2.458745\n",
       "16    PLAYING ROLE_Batsman  2.680207\n",
       "17                   AGE_3  1.779861"
      ]
     },
     "execution_count": 19,
     "metadata": {},
     "output_type": "execute_result"
    }
   ],
   "source": [
    "columns_to_be_removed = ['T-RUNS', 'T-WKTS', 'RUNS-S', 'HS', 'AVE', 'RUNS-C', 'SR-B', 'AVE-BL', 'ECON', 'ODI-SR-B', 'ODI-RUNS-S', 'SR-BL', 'AGE_2']\n",
    "x_new_features = list(set(x_features) - set(columns_to_be_removed))\n",
    "get_vif_factors(x[x_new_features])"
   ]
  },
  {
   "cell_type": "markdown",
   "metadata": {},
   "source": [
    "The VIFs on the final set of variable indicate that there is no multicollinearity present anymore.\n",
    "<br>Now we can proceed to build the model with this set of variable now."
   ]
  },
  {
   "cell_type": "markdown",
   "metadata": {},
   "source": [
    "### 7. Build a new model after Removing Multi-collinearity"
   ]
  },
  {
   "cell_type": "code",
   "execution_count": 21,
   "metadata": {},
   "outputs": [
    {
     "data": {
      "text/html": [
       "<table class=\"simpletable\">\n",
       "<tr>\n",
       "          <td>Model:</td>                 <td>OLS</td>       <td>Adj. R-squared (uncentered):</td>    <td>0.734</td>  \n",
       "</tr>\n",
       "<tr>\n",
       "    <td>Dependent Variable:</td>      <td>SOLD PRICE</td>                <td>AIC:</td>              <td>726.5558</td> \n",
       "</tr>\n",
       "<tr>\n",
       "           <td>Date:</td>          <td>2021-07-26 18:08</td>             <td>BIC:</td>              <td>749.2015</td> \n",
       "</tr>\n",
       "<tr>\n",
       "     <td>No. Observations:</td>           <td>26</td>               <td>Log-Likelihood:</td>         <td>-345.28</td> \n",
       "</tr>\n",
       "<tr>\n",
       "         <td>Df Model:</td>               <td>18</td>                <td>F-statistic:</td>            <td>4.990</td>  \n",
       "</tr>\n",
       "<tr>\n",
       "       <td>Df Residuals:</td>              <td>8</td>             <td>Prob (F-statistic):</td>       <td>0.0130</td>  \n",
       "</tr>\n",
       "<tr>\n",
       "  <td>R-squared (uncentered):</td>       <td>0.918</td>                 <td>Scale:</td>            <td>6.5193e+10</td>\n",
       "</tr>\n",
       "</table>\n",
       "<table class=\"simpletable\">\n",
       "<tr>\n",
       "             <td></td>                <th>Coef.</th>     <th>Std.Err.</th>      <th>t</th>     <th>P>|t|</th>    <th>[0.025</th>        <th>0.975]</th>   \n",
       "</tr>\n",
       "<tr>\n",
       "  <th>COUNTRY_SA</th>              <td>131595.5769</td> <td>244598.4534</td> <td>0.5380</td>  <td>0.6052</td> <td>-432449.4680</td>   <td>695640.6217</td>\n",
       "</tr>\n",
       "<tr>\n",
       "  <th>COUNTRY_BAN</th>             <td>23581.5102</td>  <td>356534.9033</td> <td>0.0661</td>  <td>0.9489</td> <td>-798589.4512</td>   <td>845752.4716</td>\n",
       "</tr>\n",
       "<tr>\n",
       "  <th>SIXERS</th>                   <td>7197.9698</td>   <td>4001.9435</td>  <td>1.7986</td>  <td>0.1098</td>  <td>-2030.5286</td>    <td>16426.4682</td> \n",
       "</tr>\n",
       "<tr>\n",
       "  <th>PLAYING ROLE_W. Keeper</th>  <td>249197.2581</td> <td>953515.8213</td> <td>0.2613</td>  <td>0.8004</td> <td>-1949614.1687</td> <td>2448008.6849</td>\n",
       "</tr>\n",
       "<tr>\n",
       "  <th>ODI-SR-BL</th>               <td>-2393.1315</td>   <td>4933.2810</td>  <td>-0.4851</td> <td>0.6406</td>  <td>-13769.2978</td>    <td>8983.0349</td> \n",
       "</tr>\n",
       "<tr>\n",
       "  <th>COUNTRY_WI</th>              <td>111995.4430</td> <td>247985.1033</td> <td>0.4516</td>  <td>0.6635</td> <td>-459859.2307</td>   <td>683850.1166</td>\n",
       "</tr>\n",
       "<tr>\n",
       "  <th>COUNTRY_IND</th>             <td>194453.4472</td> <td>200170.7093</td> <td>0.9714</td>  <td>0.3598</td> <td>-267141.0362</td>   <td>656047.9306</td>\n",
       "</tr>\n",
       "<tr>\n",
       "  <th>COUNTRY_NZ</th>               <td>2853.6269</td>  <td>499747.1453</td> <td>0.0057</td>  <td>0.9956</td> <td>-1149565.3567</td> <td>1155272.6105</td>\n",
       "</tr>\n",
       "<tr>\n",
       "  <th>WKTS</th>                     <td>1678.3716</td>   <td>4682.1678</td>  <td>0.3585</td>  <td>0.7293</td>  <td>-9118.7268</td>    <td>12475.4699</td> \n",
       "</tr>\n",
       "<tr>\n",
       "  <th>COUNTRY_PAK</th>             <td>529372.4605</td> <td>450178.8023</td> <td>1.1759</td>  <td>0.2734</td> <td>-508741.7192</td>  <td>1567486.6401</td>\n",
       "</tr>\n",
       "<tr>\n",
       "  <th>COUNTRY_SL</th>              <td>80584.4154</td>  <td>288472.4356</td> <td>0.2793</td>  <td>0.7871</td> <td>-584634.2140</td>   <td>745803.0448</td>\n",
       "</tr>\n",
       "<tr>\n",
       "  <th>PLAYING ROLE_Bowler</th>     <td>144699.5235</td> <td>250451.5924</td> <td>0.5778</td>  <td>0.5793</td> <td>-432842.8842</td>   <td>722241.9311</td>\n",
       "</tr>\n",
       "<tr>\n",
       "  <th>COUNTRY_ENG</th>            <td>1535104.5020</td> <td>457746.3369</td> <td>3.3536</td>  <td>0.0100</td>  <td>479539.5564</td>  <td>2590669.4477</td>\n",
       "</tr>\n",
       "<tr>\n",
       "  <th>COUNTRY_ZIM</th>            <td>-125826.3628</td> <td>798206.5308</td> <td>-0.1576</td> <td>0.8786</td> <td>-1966493.9234</td> <td>1714841.1977</td>\n",
       "</tr>\n",
       "<tr>\n",
       "  <th>ODI-WKTS</th>                 <td>-152.9691</td>   <td>900.6347</td>   <td>-0.1698</td> <td>0.8693</td>  <td>-2229.8365</td>     <td>1923.8982</td> \n",
       "</tr>\n",
       "<tr>\n",
       "  <th>CAPTAINCY EXP_1</th>         <td>102446.5642</td> <td>401322.2222</td> <td>0.2553</td>  <td>0.8050</td> <td>-823004.1396</td>  <td>1027897.2681</td>\n",
       "</tr>\n",
       "<tr>\n",
       "  <th>PLAYING ROLE_Batsman</th>    <td>90338.0682</td>  <td>190588.6646</td> <td>0.4740</td>  <td>0.6482</td> <td>-349160.1804</td>   <td>529836.3169</td>\n",
       "</tr>\n",
       "<tr>\n",
       "  <th>AGE_3</th>                   <td>264815.9264</td> <td>394333.5755</td> <td>0.6716</td>  <td>0.5208</td> <td>-644518.9294</td>  <td>1174150.7821</td>\n",
       "</tr>\n",
       "</table>\n",
       "<table class=\"simpletable\">\n",
       "<tr>\n",
       "     <td>Omnibus:</td>    <td>14.059</td>  <td>Durbin-Watson:</td>    <td>2.266</td>\n",
       "</tr>\n",
       "<tr>\n",
       "  <td>Prob(Omnibus):</td>  <td>0.001</td> <td>Jarque-Bera (JB):</td> <td>16.569</td>\n",
       "</tr>\n",
       "<tr>\n",
       "       <td>Skew:</td>      <td>1.197</td>     <td>Prob(JB):</td>      <td>0.000</td>\n",
       "</tr>\n",
       "<tr>\n",
       "     <td>Kurtosis:</td>    <td>6.093</td>  <td>Condition No.:</td>    <td>3691</td> \n",
       "</tr>\n",
       "</table>"
      ],
      "text/plain": [
       "<class 'statsmodels.iolib.summary2.Summary'>\n",
       "\"\"\"\n",
       "                             Results: Ordinary least squares\n",
       "=========================================================================================\n",
       "Model:                     OLS                 Adj. R-squared (uncentered):    0.734     \n",
       "Dependent Variable:        SOLD PRICE          AIC:                            726.5558  \n",
       "Date:                      2021-07-26 18:08    BIC:                            749.2015  \n",
       "No. Observations:          26                  Log-Likelihood:                 -345.28   \n",
       "Df Model:                  18                  F-statistic:                    4.990     \n",
       "Df Residuals:              8                   Prob (F-statistic):             0.0130    \n",
       "R-squared (uncentered):    0.918               Scale:                          6.5193e+10\n",
       "-----------------------------------------------------------------------------------------\n",
       "                          Coef.       Std.Err.     t    P>|t|      [0.025       0.975]   \n",
       "-----------------------------------------------------------------------------------------\n",
       "COUNTRY_SA              131595.5769 244598.4534  0.5380 0.6052  -432449.4680  695640.6217\n",
       "COUNTRY_BAN              23581.5102 356534.9033  0.0661 0.9489  -798589.4512  845752.4716\n",
       "SIXERS                    7197.9698   4001.9435  1.7986 0.1098    -2030.5286   16426.4682\n",
       "PLAYING ROLE_W. Keeper  249197.2581 953515.8213  0.2613 0.8004 -1949614.1687 2448008.6849\n",
       "ODI-SR-BL                -2393.1315   4933.2810 -0.4851 0.6406   -13769.2978    8983.0349\n",
       "COUNTRY_WI              111995.4430 247985.1033  0.4516 0.6635  -459859.2307  683850.1166\n",
       "COUNTRY_IND             194453.4472 200170.7093  0.9714 0.3598  -267141.0362  656047.9306\n",
       "COUNTRY_NZ                2853.6269 499747.1453  0.0057 0.9956 -1149565.3567 1155272.6105\n",
       "WKTS                      1678.3716   4682.1678  0.3585 0.7293    -9118.7268   12475.4699\n",
       "COUNTRY_PAK             529372.4605 450178.8023  1.1759 0.2734  -508741.7192 1567486.6401\n",
       "COUNTRY_SL               80584.4154 288472.4356  0.2793 0.7871  -584634.2140  745803.0448\n",
       "PLAYING ROLE_Bowler     144699.5235 250451.5924  0.5778 0.5793  -432842.8842  722241.9311\n",
       "COUNTRY_ENG            1535104.5020 457746.3369  3.3536 0.0100   479539.5564 2590669.4477\n",
       "COUNTRY_ZIM            -125826.3628 798206.5308 -0.1576 0.8786 -1966493.9234 1714841.1977\n",
       "ODI-WKTS                  -152.9691    900.6347 -0.1698 0.8693    -2229.8365    1923.8982\n",
       "CAPTAINCY EXP_1         102446.5642 401322.2222  0.2553 0.8050  -823004.1396 1027897.2681\n",
       "PLAYING ROLE_Batsman     90338.0682 190588.6646  0.4740 0.6482  -349160.1804  529836.3169\n",
       "AGE_3                   264815.9264 394333.5755  0.6716 0.5208  -644518.9294 1174150.7821\n",
       "-----------------------------------------------------------------------------------------\n",
       "Omnibus:                      14.059               Durbin-Watson:                  2.266 \n",
       "Prob(Omnibus):                0.001                Jarque-Bera (JB):               16.569\n",
       "Skew:                         1.197                Prob(JB):                       0.000 \n",
       "Kurtosis:                     6.093                Condition No.:                  3691  \n",
       "=========================================================================================\n",
       "* The condition number is large (4e+03). This might indicate             strong\n",
       "multicollinearity or other numerical problems.\n",
       "\"\"\""
      ]
     },
     "execution_count": 21,
     "metadata": {},
     "output_type": "execute_result"
    }
   ],
   "source": [
    "X_train = X_train[x_new_features]\n",
    "ipl_model_2 = sm.OLS(Y_train, X_train).fit()\n",
    "ipl_model_2.summary2()"
   ]
  },
  {
   "cell_type": "markdown",
   "metadata": {},
   "source": [
    "Based on the p-values, only the variable Country_IND, Country_ENG, SIXERS, CAPTAINCY, EXP_1 have come out statstically significant. So, the features that decide the cold price are"
   ]
  },
  {
   "cell_type": "markdown",
   "metadata": {},
   "source": [
    " 1. Players belong to India or the origin country of the player.\n",
    " 2. Howmany sixes has the player hit in th previous of the IPL?\n",
    " 3. How many wickets have been taken by the player in the ODI?\n",
    " 4. Player has any previous captaincy experience or not?"
   ]
  },
  {
   "cell_type": "markdown",
   "metadata": {},
   "source": [
    "Let's create a new list called significant_vars to store the column name of significant variables and build a new model."
   ]
  },
  {
   "cell_type": "code",
   "execution_count": 22,
   "metadata": {},
   "outputs": [
    {
     "data": {
      "text/html": [
       "<table class=\"simpletable\">\n",
       "<tr>\n",
       "          <td>Model:</td>                 <td>OLS</td>       <td>Adj. R-squared (uncentered):</td>    <td>0.842</td>  \n",
       "</tr>\n",
       "<tr>\n",
       "    <td>Dependent Variable:</td>      <td>SOLD PRICE</td>                <td>AIC:</td>              <td>711.3341</td> \n",
       "</tr>\n",
       "<tr>\n",
       "           <td>Date:</td>          <td>2021-07-26 18:16</td>             <td>BIC:</td>              <td>716.3665</td> \n",
       "</tr>\n",
       "<tr>\n",
       "     <td>No. Observations:</td>           <td>26</td>               <td>Log-Likelihood:</td>         <td>-351.67</td> \n",
       "</tr>\n",
       "<tr>\n",
       "         <td>Df Model:</td>                <td>4</td>                <td>F-statistic:</td>            <td>35.64</td>  \n",
       "</tr>\n",
       "<tr>\n",
       "       <td>Df Residuals:</td>             <td>22</td>             <td>Prob (F-statistic):</td>      <td>2.57e-09</td> \n",
       "</tr>\n",
       "<tr>\n",
       "  <td>R-squared (uncentered):</td>       <td>0.866</td>                 <td>Scale:</td>            <td>3.8754e+10</td>\n",
       "</tr>\n",
       "</table>\n",
       "<table class=\"simpletable\">\n",
       "<tr>\n",
       "         <td></td>             <th>Coef.</th>     <th>Std.Err.</th>      <th>t</th>    <th>P>|t|</th>   <th>[0.025</th>       <th>0.975]</th>   \n",
       "</tr>\n",
       "<tr>\n",
       "  <th>COUNTRY_ENG</th>     <td>1233485.8930</td> <td>213032.2715</td> <td>5.7901</td> <td>0.0000</td> <td>791684.0026</td> <td>1675287.7833</td>\n",
       "</tr>\n",
       "<tr>\n",
       "  <th>COUNTRY_IND</th>      <td>275288.0064</td> <td>77907.5371</td>  <td>3.5335</td> <td>0.0019</td> <td>113717.6634</td>  <td>436858.3494</td>\n",
       "</tr>\n",
       "<tr>\n",
       "  <th>SIXERS</th>            <td>6535.3772</td>   <td>1799.5869</td>  <td>3.6316</td> <td>0.0015</td>  <td>2803.2624</td>   <td>10267.4920</td> \n",
       "</tr>\n",
       "<tr>\n",
       "  <th>CAPTAINCY EXP_1</th>  <td>303443.3526</td> <td>81806.4508</td>  <td>3.7093</td> <td>0.0012</td> <td>133787.1576</td>  <td>473099.5477</td>\n",
       "</tr>\n",
       "</table>\n",
       "<table class=\"simpletable\">\n",
       "<tr>\n",
       "     <td>Omnibus:</td>     <td>0.430</td>  <td>Durbin-Watson:</td>   <td>2.131</td>\n",
       "</tr>\n",
       "<tr>\n",
       "  <td>Prob(Omnibus):</td>  <td>0.807</td> <td>Jarque-Bera (JB):</td> <td>0.363</td>\n",
       "</tr>\n",
       "<tr>\n",
       "       <td>Skew:</td>     <td>-0.257</td>     <td>Prob(JB):</td>     <td>0.834</td>\n",
       "</tr>\n",
       "<tr>\n",
       "     <td>Kurtosis:</td>    <td>2.736</td>  <td>Condition No.:</td>    <td>143</td> \n",
       "</tr>\n",
       "</table>"
      ],
      "text/plain": [
       "<class 'statsmodels.iolib.summary2.Summary'>\n",
       "\"\"\"\n",
       "                        Results: Ordinary least squares\n",
       "================================================================================\n",
       "Model:                  OLS              Adj. R-squared (uncentered): 0.842     \n",
       "Dependent Variable:     SOLD PRICE       AIC:                         711.3341  \n",
       "Date:                   2021-07-26 18:16 BIC:                         716.3665  \n",
       "No. Observations:       26               Log-Likelihood:              -351.67   \n",
       "Df Model:               4                F-statistic:                 35.64     \n",
       "Df Residuals:           22               Prob (F-statistic):          2.57e-09  \n",
       "R-squared (uncentered): 0.866            Scale:                       3.8754e+10\n",
       "--------------------------------------------------------------------------------\n",
       "                    Coef.       Std.Err.    t    P>|t|     [0.025      0.975]   \n",
       "--------------------------------------------------------------------------------\n",
       "COUNTRY_ENG      1233485.8930 213032.2715 5.7901 0.0000 791684.0026 1675287.7833\n",
       "COUNTRY_IND       275288.0064  77907.5371 3.5335 0.0019 113717.6634  436858.3494\n",
       "SIXERS              6535.3772   1799.5869 3.6316 0.0015   2803.2624   10267.4920\n",
       "CAPTAINCY EXP_1   303443.3526  81806.4508 3.7093 0.0012 133787.1576  473099.5477\n",
       "--------------------------------------------------------------------------------\n",
       "Omnibus:                    0.430             Durbin-Watson:               2.131\n",
       "Prob(Omnibus):              0.807             Jarque-Bera (JB):            0.363\n",
       "Skew:                       -0.257            Prob(JB):                    0.834\n",
       "Kurtosis:                   2.736             Condition No.:               143  \n",
       "================================================================================\n",
       "\n",
       "\"\"\""
      ]
     },
     "execution_count": 22,
     "metadata": {},
     "output_type": "execute_result"
    }
   ],
   "source": [
    "significant_vars = ['COUNTRY_ENG', 'COUNTRY_IND', 'SIXERS', 'CAPTAINCY EXP_1']\n",
    "X_train = X_train[significant_vars]\n",
    "ipl_model_3 = sm.OLS(Y_train, X_train).fit()\n",
    "ipl_model_3.summary2()"
   ]
  },
  {
   "cell_type": "markdown",
   "metadata": {},
   "source": []
  }
 ],
 "metadata": {
  "kernelspec": {
   "display_name": "Python 3",
   "language": "python",
   "name": "python3"
  },
  "language_info": {
   "codemirror_mode": {
    "name": "ipython",
    "version": 3
   },
   "file_extension": ".py",
   "mimetype": "text/x-python",
   "name": "python",
   "nbconvert_exporter": "python",
   "pygments_lexer": "ipython3",
   "version": "3.8.5"
  }
 },
 "nbformat": 4,
 "nbformat_minor": 4
}
